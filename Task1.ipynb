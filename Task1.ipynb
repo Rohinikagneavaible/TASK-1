{
 "cells": [
  {
   "cell_type": "code",
   "execution_count": 3,
   "id": "cead37ea-cded-4fc1-9684-70f2e4be0792",
   "metadata": {},
   "outputs": [
    {
     "name": "stdout",
     "output_type": "stream",
     "text": [
      "Original list: [1, 2, 3, 4, 5]\n",
      "list after adding element: [1, 2, 3, 4, 5, 6]\n",
      "list after removing element: [1, 2, 3, 5, 6]\n",
      "list after modifying element: [10, 2, 3, 5, 6]\n"
     ]
    }
   ],
   "source": [
    "#create a list\n",
    "my_list=[1,2,3,4,5]\n",
    "print(\"Original list:\",my_list)\n",
    "\n",
    "#Add element to List\n",
    "my_list.append(6)\n",
    "print(\"list after adding element:\",my_list)\n",
    "\n",
    "#Remove element from list\n",
    "my_list.remove(4)\n",
    "print(\"list after removing element:\",my_list)\n",
    "\n",
    "#modify element in list\n",
    "my_list[0]=10\n",
    "print(\"list after modifying element:\",my_list)\n"
   ]
  },
  {
   "cell_type": "code",
   "execution_count": 4,
   "id": "7596e772-a4f1-4785-ad76-752f9a71c62d",
   "metadata": {},
   "outputs": [
    {
     "name": "stdout",
     "output_type": "stream",
     "text": [
      "Original Dictionary: {'name': 'john', 'age': 30}\n",
      "dictionary after adding key-value pair: {'name': 'john', 'age': 30, 'city': 'pune'}\n",
      "Dictionary after modifying value: {'name': 'john', 'city': 'pune'}\n",
      "dictionary after modifying value: {'name': 'jane', 'city': 'pune'}\n"
     ]
    }
   ],
   "source": [
    "#create a dictionary\n",
    "my_dict={\"name\":\"john\",\"age\":30}\n",
    "print(\"Original Dictionary:\",my_dict)\n",
    "\n",
    "#Add key-value pair to dictionary\n",
    "my_dict[\"city\"]=\"pune\"\n",
    "print(\"dictionary after adding key-value pair:\",my_dict)\n",
    "\n",
    "#Remove key-value pair from dictionary\n",
    "del my_dict[\"age\"]\n",
    "print(\"Dictionary after modifying value:\",my_dict)\n",
    "\n",
    "#Modify value in dictionary\n",
    "my_dict[\"name\"]=\"jane\"\n",
    "print(\"dictionary after modifying value:\",my_dict)\n"
   ]
  },
  {
   "cell_type": "code",
   "execution_count": 5,
   "id": "98db88a5-7e20-4adc-ad3f-62f71ab7ad8f",
   "metadata": {},
   "outputs": [
    {
     "name": "stdout",
     "output_type": "stream",
     "text": [
      "Original set: {1, 2, 3, 4, 5}\n",
      "set after adding elemet: {1, 2, 3, 4, 5, 6}\n",
      "set after removing element: {1, 2, 3, 5, 6}\n",
      "set after modifying: {1, 2, 3, 5, 6}\n"
     ]
    }
   ],
   "source": [
    "#Create a set\n",
    "my_set={1,2,3,4,5}\n",
    "print(\"Original set:\",my_set)\n",
    "\n",
    "#Add element to set\n",
    "my_set.add(6)\n",
    "print(\"set after adding elemet:\",my_set)\n",
    "\n",
    "#Remove element from set\n",
    "my_set.remove(4)\n",
    "print(\"set after removing element:\",my_set)\n",
    "\n",
    "#Modify set(sets are unorderd,so we can't modify elements directly)\n",
    "my_set={1,2,3,5,6}\n",
    "print(\"set after modifying:\",my_set)\n"
   ]
  },
  {
   "cell_type": "code",
   "execution_count": null,
   "id": "1b5b35f5-684c-42b7-a422-b0209f93998e",
   "metadata": {},
   "outputs": [],
   "source": []
  }
 ],
 "metadata": {
  "kernelspec": {
   "display_name": "Python 3 (ipykernel)",
   "language": "python",
   "name": "python3"
  },
  "language_info": {
   "codemirror_mode": {
    "name": "ipython",
    "version": 3
   },
   "file_extension": ".py",
   "mimetype": "text/x-python",
   "name": "python",
   "nbconvert_exporter": "python",
   "pygments_lexer": "ipython3",
   "version": "3.12.4"
  }
 },
 "nbformat": 4,
 "nbformat_minor": 5
}
